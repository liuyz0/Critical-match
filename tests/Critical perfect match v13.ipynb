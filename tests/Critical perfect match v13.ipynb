{
 "cells": [
  {
   "cell_type": "markdown",
   "metadata": {},
   "source": [
    "# Stability most sensitive at $N_S = N_R$\n",
    "\n",
    "This notebook tries to verify the idea that\n",
    "$$\n",
    "\\rho \\geq \\sqrt{\\min(N_S/N_R, N_R/N_S)},\n",
    "$$\n",
    "is the stability criterion."
   ]
  },
  {
   "cell_type": "code",
   "execution_count": 1,
   "metadata": {},
   "outputs": [],
   "source": [
    "import numpy as np\n",
    "import matplotlib.pyplot as plt"
   ]
  },
  {
   "cell_type": "markdown",
   "metadata": {},
   "source": [
    "First sample communities with constant resource supply."
   ]
  },
  {
   "cell_type": "code",
   "execution_count": 2,
   "metadata": {},
   "outputs": [
    {
     "data": {
      "text/plain": [
       "0.8939041674596696"
      ]
     },
     "execution_count": 2,
     "metadata": {},
     "output_type": "execute_result"
    }
   ],
   "source": [
    "# a test to sample G and C with desired correlation\n",
    "Ns = 16\n",
    "Nr = 32\n",
    "Tgc = np.random.randn(2, Ns, Nr)\n",
    "\n",
    "rho = 0.9\n",
    "\n",
    "G = Tgc[0]\n",
    "C = rho * Tgc[0] + np.sqrt(1-rho**2) * Tgc[1]\n",
    "G = G + 1.0\n",
    "C = C + 1.0\n",
    "\n",
    "np.corrcoef(G.flatten(), C.flatten())[0,1]"
   ]
  },
  {
   "cell_type": "code",
   "execution_count": 3,
   "metadata": {},
   "outputs": [],
   "source": [
    "Ss = 0.01 + 0.99*np.random.rand(Ns)\n",
    "Rs = 0.01 + 0.99*np.random.rand(Nr)\n",
    "\n",
    "Js = np.zeros((Ns+Nr,Ns+Nr))\n",
    "Js[0:Ns,Ns:Ns+Nr] = np.diag(Ss) @ G\n",
    "Js[Ns:Ns+Nr,0:Ns] = - np.diag(Rs) @ C.T\n",
    "Js[Ns:Ns+Nr,Ns:Ns+Nr] = - np.diag(C.T @ Ss)\n",
    "\n",
    "E_J = np.linalg.eigvals(Js)\n",
    "E_Jr = E_J.real\n",
    "FU_J = len(E_Jr[E_Jr >= 1.0e-6])/Ns # Fraction of Unstable modes of the real Jacobian"
   ]
  },
  {
   "cell_type": "code",
   "execution_count": 4,
   "metadata": {},
   "outputs": [
    {
     "data": {
      "text/plain": [
       "Text(0, 0.5, 'Imag')"
      ]
     },
     "execution_count": 4,
     "metadata": {},
     "output_type": "execute_result"
    },
    {
     "data": {
      "image/png": "[encoded data removed]",
      "text/plain": [
       "<Figure size 280x210 with 1 Axes>"
      ]
     },
     "metadata": {},
     "output_type": "display_data"
    }
   ],
   "source": [
    "plt.figure(figsize=(2.8, 2.1), constrained_layout=True)\n",
    "plt.scatter(E_Jr/Nr, E_J.imag/Nr)\n",
    "plt.xlabel('Real')\n",
    "plt.ylabel('Imag')"
   ]
  },
  {
   "cell_type": "markdown",
   "metadata": {},
   "source": [
    "Trial finished. A function for sampling as follows."
   ]
  },
  {
   "cell_type": "code",
   "execution_count": 5,
   "metadata": {},
   "outputs": [],
   "source": [
    "def sample(Ns:int,\n",
    "           Nr:int,\n",
    "           rho:float):\n",
    "    \n",
    "       Tgc = np.random.randn(2, Ns, Nr)\n",
    "\n",
    "       G = Tgc[0]\n",
    "       C = rho * Tgc[0] + np.sqrt(1-rho**2) * Tgc[1]\n",
    "       G = G + 4.0\n",
    "       C = C + 4.0\n",
    "       Ss = 0.01 + 0.99*np.random.rand(Ns)\n",
    "       Rs = 0.01 + 0.99*np.random.rand(Nr)\n",
    "       l = 0.1 + 0.9*np.random.rand(Nr)\n",
    "\n",
    "       Js = np.zeros((Ns+Nr,Ns+Nr))\n",
    "       Js[0:Ns,Ns:Ns+Nr] = np.diag(Ss) @ G\n",
    "       Js[Ns:Ns+Nr,0:Ns] = - np.diag(Rs) @ C.T\n",
    "       Js[Ns:Ns+Nr,Ns:Ns+Nr] = - np.diag(C.T @ Ss) - np.diag(l)\n",
    "\n",
    "       E_J = np.linalg.eigvals(Js)\n",
    "       E_Jr = E_J.real\n",
    "       NU_J = len(E_Jr[E_Jr >= 1.0e-7]) # if devided by Nr or Ns\n",
    "\n",
    "       return NU_J"
   ]
  },
  {
   "cell_type": "markdown",
   "metadata": {},
   "source": [
    "Want to draw a figure with x-axis being $N_S/N_R$ and y-axis being $\\rho$. The color map is number of unstable mode?\n",
    "\n",
    "Just select a horizental line, $\\rho = 0.8$"
   ]
  },
  {
   "cell_type": "code",
   "execution_count": 6,
   "metadata": {},
   "outputs": [],
   "source": [
    "rho = 0.8\n",
    "Nr = 16\n",
    "Ns_span = range(1,Nr*4+1, 2)\n",
    "NU = np.zeros((len(Ns_span), 100))\n",
    "\n",
    "for i in range(len(Ns_span)):\n",
    "    Ns = Ns_span[i]\n",
    "    for j in range(100):\n",
    "        NU[i, j] = sample(Ns, Nr, rho)"
   ]
  },
  {
   "cell_type": "code",
   "execution_count": 7,
   "metadata": {},
   "outputs": [],
   "source": [
    "FNC = np.mean((NU > 0).astype(float), -1)\n",
    "std_FNC = np.std((NU > 0).astype(float), -1)/np.sqrt(100)"
   ]
  },
  {
   "cell_type": "code",
   "execution_count": 8,
   "metadata": {},
   "outputs": [],
   "source": [
    "Nr = 32\n",
    "NU = np.zeros((len(Ns_span), 100))\n",
    "\n",
    "for i in range(len(Ns_span)):\n",
    "    Ns = Ns_span[i]\n",
    "    for j in range(100):\n",
    "        NU[i, j] = sample(Ns, Nr, rho)"
   ]
  },
  {
   "cell_type": "code",
   "execution_count": 9,
   "metadata": {},
   "outputs": [],
   "source": [
    "FNC1 = np.mean((NU > 0).astype(float), -1)\n",
    "std_FNC1 = np.std((NU > 0).astype(float), -1)/np.sqrt(100)"
   ]
  },
  {
   "cell_type": "code",
   "execution_count": 10,
   "metadata": {},
   "outputs": [],
   "source": [
    "Nr = 48\n",
    "NU = np.zeros((len(Ns_span), 100))\n",
    "\n",
    "for i in range(len(Ns_span)):\n",
    "    Ns = Ns_span[i]\n",
    "    for j in range(100):\n",
    "        NU[i, j] = sample(Ns, Nr, rho)"
   ]
  },
  {
   "cell_type": "code",
   "execution_count": 11,
   "metadata": {},
   "outputs": [],
   "source": [
    "FNC2 = np.mean((NU > 0).astype(float), -1)\n",
    "std_FNC2 = np.std((NU > 0).astype(float), -1)/np.sqrt(100)"
   ]
  },
  {
   "cell_type": "code",
   "execution_count": 12,
   "metadata": {},
   "outputs": [
    {
     "data": {
      "image/png": "[encoded data removed]",
      "text/plain": [
       "<Figure size 280x210 with 1 Axes>"
      ]
     },
     "metadata": {},
     "output_type": "display_data"
    }
   ],
   "source": [
    "plt.figure(figsize=(2.8, 2.1), constrained_layout=True)\n",
    "\n",
    "plt.errorbar(np.array(Ns_span), FNC, std_FNC, ls='none', marker = 'o', color = '0.8')\n",
    "plt.errorbar(np.array(Ns_span), FNC1, std_FNC1, ls='none', marker = 's', color = '0.5')\n",
    "plt.errorbar(np.array(Ns_span), FNC2, std_FNC2, ls='none', marker = '^', color = '0.2')\n",
    "#plt.scatter([12/32,1.0,3.0],[0.05 for i in range(3)],c='r',marker='v')\n",
    "\n",
    "#plt.plot([0.8**2 for i in range(11)],[0.1*i for i in range(11)],'--k')\n",
    "#plt.plot([1/0.8**2 for i in range(11)],[0.1*i for i in range(11)],'--k')\n",
    "\n",
    "plt.ylim(0,1)\n",
    "plt.xlim(1,64)\n",
    "#plt.xscale('log')\n",
    "plt.xlabel('Consumer diversity, $N$')\n",
    "plt.ylabel('Unstable fraction')\n",
    "plt.savefig('../figures/fig1shift-test13-1.eps')"
   ]
  },
  {
   "cell_type": "markdown",
   "metadata": {},
   "source": [
    "Need to try for $M = 32$, do that in exp :)"
   ]
  },
  {
   "cell_type": "code",
   "execution_count": 13,
   "metadata": {},
   "outputs": [
    {
     "data": {
      "image/png": "[encoded data removed]",
      "text/plain": [
       "<Figure size 280x210 with 1 Axes>"
      ]
     },
     "metadata": {},
     "output_type": "display_data"
    }
   ],
   "source": [
    "plt.figure(figsize=(2.8, 2.1), constrained_layout=True)\n",
    "\n",
    "plt.errorbar(np.array(Ns_span)/16, FNC, std_FNC, ls='none', marker = 'o',color='0.8')\n",
    "plt.errorbar(np.array(Ns_span)/32, FNC1, std_FNC1, ls='none', marker = 's',color='0.5')\n",
    "plt.errorbar(np.array(Ns_span)/48, FNC2, std_FNC2, ls='none', marker = '^',color='0.2')\n",
    "#plt.scatter([12/32,1.0,3.0],[0.05 for i in range(3)],c='r',marker='v')\n",
    "\n",
    "plt.plot([0.8**2 for i in range(11)],[0.1*i for i in range(11)],'--k')\n",
    "plt.plot([1/0.8**2 for i in range(11)],[0.1*i for i in range(11)],'--k')\n",
    "\n",
    "plt.ylim(0,1)\n",
    "plt.xlim(0,4)\n",
    "#plt.xscale('log')\n",
    "plt.xlabel('Consumer-resource ratio, $N/M$')\n",
    "plt.ylabel('Unstable fraction')\n",
    "plt.savefig('../figures/fig1shift-test13-2.eps')"
   ]
  }
 ],
 "metadata": {
  "kernelspec": {
   "display_name": "base",
   "language": "python",
   "name": "python3"
  },
  "language_info": {
   "codemirror_mode": {
    "name": "ipython",
    "version": 3
   },
   "file_extension": ".py",
   "mimetype": "text/x-python",
   "name": "python",
   "nbconvert_exporter": "python",
   "pygments_lexer": "ipython3",
   "version": "3.10.9"
  }
 },
 "nbformat": 4,
 "nbformat_minor": 2
}
