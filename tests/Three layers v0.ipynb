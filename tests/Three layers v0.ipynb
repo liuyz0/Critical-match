{
 "cells": [
  {
   "cell_type": "markdown",
   "metadata": {},
   "source": [
    "$$\n",
    "\\frac{\\mathrm{d} R_\\alpha}{\\mathrm{d} t} = h_\\alpha(R_\\alpha) - R_\\alpha \\sum_i C^{(1)}_{i\\alpha}S_i^{(1)}\n",
    "$$\n",
    "\n",
    "$$\n",
    "\\frac{\\mathrm{d} S_i^{(1)}}{\\mathrm{d} t} = S_i^{(1)} (\\sum_\\alpha G^{(1)}_{i\\alpha}R_\\alpha - \\sum_j C^{(2)}_{ji}S_j^{(2)} - \\delta_i^{(1)})\n",
    "$$\n",
    "\n",
    "$$\n",
    "\\frac{\\mathrm{d} S_i^{(2)}}{\\mathrm{d} t} = S_i^{(2)} (\\sum_j G^{(2)}_{ij}S_j^{(1)} - \\delta_i^{(2)})\n",
    "$$\n",
    "\n",
    "$$\n",
    "\\begin{bmatrix}\n",
    "0 & D(S^{(2)})G^{(2)} & 0\\\\\n",
    "-D(S^{(1)})C^{(2)\\top} & 0 & D(S^{(1)})G^{(1)}\\\\\n",
    "0 & -D(R)C^{(1)\\top} & \\frac{\\partial h}{\\partial R} - D(C^{(1)\\top}S^{(1)})\n",
    "\\end{bmatrix}\n",
    "$$\n",
    "\n",
    "$$\n",
    "\\begin{bmatrix}\n",
    "0 & G^{(2)} & 0\\\\\n",
    "-C^{(2)\\top} & 0 & G^{(1)}\\\\\n",
    "0 & -C^{(1)\\top} & \\frac{\\partial h}{\\partial R} - D(C^{(1)\\top}S^{(1)})\n",
    "\\end{bmatrix}\n",
    "$$\n",
    "\n",
    "$$\n",
    "\\begin{bmatrix}\n",
    "0 & G^{(2)} & 0\\\\\n",
    "-C^{(2)\\top} & 0 & G^{(1)}\\\\\n",
    "0 & -C^{(1)\\top} & -\\ddots\n",
    "\\end{bmatrix}\n",
    "$$"
   ]
  },
  {
   "cell_type": "markdown",
   "metadata": {},
   "source": [
    "First have a look of what is the eigenvalue spectrum. If does not work, try to add self-regulation the layer $1$."
   ]
  },
  {
   "cell_type": "code",
   "execution_count": 1,
   "metadata": {},
   "outputs": [],
   "source": [
    "import numpy as np\n",
    "import matplotlib.pyplot as plt"
   ]
  },
  {
   "cell_type": "code",
   "execution_count": 2,
   "metadata": {},
   "outputs": [],
   "source": [
    "M = 64\n",
    "N1 = 32\n",
    "N2 = 16\n",
    "rho = .8\n",
    "\n",
    "Tgc = np.random.randn(2, N1, M)\n",
    "\n",
    "G1 = Tgc[0]\n",
    "C1 = rho * Tgc[0] + np.sqrt(1-rho**2) * Tgc[1]\n",
    "G1 = (G1 + 3.0)/M\n",
    "C1 = (C1 + 3.0)/M\n",
    "\n",
    "Tgc = np.random.randn(2, N2, N1)\n",
    "\n",
    "G2 = Tgc[0]\n",
    "C2 = rho * Tgc[0] + np.sqrt(1-rho**2) * Tgc[1]\n",
    "G2 = (G2 + 3.0)/N1\n",
    "C2 = (C2 + 3.0)/N1\n",
    "\n",
    "J = np.zeros((M+N1+N2,M+N1+N2))\n",
    "J[0:N2,N2:N2+N1] = G2\n",
    "J[N2:N2+N1,0:N2] = -C2.T\n",
    "J[N2:N2+N1,N2+N1:] = G1\n",
    "J[N2+N1:,N2:N2+N1] = - C1.T\n",
    "J[N2+N1:,N2+N1:] = - np.eye(M) * 5\n",
    "J[N2:N2+N1,N2:N2+N1] = - np.eye(N1) * 0.1"
   ]
  },
  {
   "cell_type": "code",
   "execution_count": 3,
   "metadata": {},
   "outputs": [],
   "source": [
    "E_J = np.linalg.eigvals(J)\n",
    "E_J = E_J[E_J.real > -.1]"
   ]
  },
  {
   "cell_type": "code",
   "execution_count": 4,
   "metadata": {},
   "outputs": [
    {
     "data": {
      "text/plain": [
       "Text(0, 0.5, 'Imag')"
      ]
     },
     "execution_count": 4,
     "metadata": {},
     "output_type": "execute_result"
    },
    {
     "data": {
      "image/png": "[encoded data removed]",
      "text/plain": [
       "<Figure size 280x210 with 1 Axes>"
      ]
     },
     "metadata": {},
     "output_type": "display_data"
    }
   ],
   "source": [
    "plt.figure(figsize=(2.8, 2.1), constrained_layout=True)\n",
    "plt.scatter(E_J.real, E_J.imag)\n",
    "plt.xlabel('Real')\n",
    "plt.ylabel('Imag')"
   ]
  },
  {
   "cell_type": "markdown",
   "metadata": {},
   "source": [
    "Trial ended, try phase diagram"
   ]
  },
  {
   "cell_type": "code",
   "execution_count": 5,
   "metadata": {},
   "outputs": [],
   "source": [
    "def sample(rho, M, N1, N2, a0 = 1.0, a1 = 1.0, a2 = 1.0):\n",
    "    Tgc = np.random.randn(2, N1, M)\n",
    "\n",
    "    G1 = Tgc[0]\n",
    "    C1 = rho * Tgc[0] + np.sqrt(1-rho**2) * Tgc[1]\n",
    "    G1 = (G1 + 3.0)/M\n",
    "    C1 = (C1 + 3.0)/M\n",
    "\n",
    "    Tgc = np.random.randn(2, N2, N1)\n",
    "\n",
    "    G2 = Tgc[0]\n",
    "    C2 = rho * Tgc[0] + np.sqrt(1-rho**2) * Tgc[1]\n",
    "    G2 = (G2 + 3.0)/N1\n",
    "    C2 = (C2 + 3.0)/N1\n",
    "\n",
    "    J = np.zeros((M+N1+N2,M+N1+N2))\n",
    "    J[0:N2,N2:N2+N1] = G2\n",
    "    J[N2:N2+N1,0:N2] = -C2.T\n",
    "    J[N2:N2+N1,N2+N1:] = G1\n",
    "    J[N2+N1:,N2:N2+N1] = - C1.T\n",
    "    J[N2+N1:,N2+N1:] = - np.eye(M) * a0\n",
    "    J[N2:N2+N1,N2:N2+N1] = - np.eye(N1) * a1\n",
    "    J[:N2,:N2] = - np.eye(N2) * a2\n",
    "    E_J = np.linalg.eigvals(J)\n",
    "    NU_J = len(E_J[E_J.real >= 1.0e-8])\n",
    "    \n",
    "    return NU_J"
   ]
  },
  {
   "cell_type": "markdown",
   "metadata": {},
   "source": [
    "x-axis being $N_1/M$, and y-axis being $N_2/N_1$."
   ]
  },
  {
   "cell_type": "code",
   "execution_count": 6,
   "metadata": {},
   "outputs": [],
   "source": [
    "rho = .8\n",
    "N1 = 32\n",
    "M_span = range(1,65)\n",
    "N2_span = range(1,65)\n",
    "\n",
    "NU = np.zeros((len(M_span), len(N2_span), 10))\n",
    "for i in range(len(M_span)):\n",
    "    M = M_span[i]\n",
    "    for j in range(len(N2_span)):\n",
    "        N2 = N2_span[j]\n",
    "        # each point sample 10 communities\n",
    "        for k in range(0,10):\n",
    "            NU[i,j,k] = sample(rho, M, N1, N2)\n",
    "\n",
    "NU_mean = np.mean(NU, -1)\n",
    "FNC = np.mean((NU > 0).astype(float), -1)"
   ]
  },
  {
   "cell_type": "code",
   "execution_count": 7,
   "metadata": {},
   "outputs": [],
   "source": [
    "NU_draw = np.zeros(np.shape(NU_mean))\n",
    "FNC_draw = np.zeros(np.shape(NU_mean))\n",
    "for j in range(64):\n",
    "    NU_draw[:,j] = NU_mean[:,64-j-1]\n",
    "    FNC_draw[:,j] = FNC[:,64-j-1]"
   ]
  },
  {
   "cell_type": "code",
   "execution_count": 8,
   "metadata": {},
   "outputs": [
    {
     "data": {
      "image/png": "[encoded data removed]",
      "text/plain": [
       "<Figure size 280x210 with 2 Axes>"
      ]
     },
     "metadata": {},
     "output_type": "display_data"
    }
   ],
   "source": [
    "plt.figure(figsize=(2.8, 2.1), constrained_layout=True)\n",
    "extent = 1/16, 2, 1/16, 2\n",
    "plt.imshow(FNC_draw.T, extent=extent, aspect=1)\n",
    "plt.colorbar()\n",
    "\n",
    "plt.xlabel(r'$M/N_1$')\n",
    "plt.ylabel(r'$N_2/N_1$')\n",
    "plt.savefig('./3layers-0.pdf')"
   ]
  },
  {
   "cell_type": "markdown",
   "metadata": {},
   "source": [
    "all stable! if we have auto-regulation everywhere."
   ]
  }
 ],
 "metadata": {
  "kernelspec": {
   "display_name": "base",
   "language": "python",
   "name": "python3"
  },
  "language_info": {
   "codemirror_mode": {
    "name": "ipython",
    "version": 3
   },
   "file_extension": ".py",
   "mimetype": "text/x-python",
   "name": "python",
   "nbconvert_exporter": "python",
   "pygments_lexer": "ipython3",
   "version": "3.10.9"
  }
 },
 "nbformat": 4,
 "nbformat_minor": 2
}
