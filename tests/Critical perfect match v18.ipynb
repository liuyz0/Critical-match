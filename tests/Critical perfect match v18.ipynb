{
 "cells": [
  {
   "cell_type": "code",
   "execution_count": 1,
   "metadata": {},
   "outputs": [],
   "source": [
    "import numpy as np\n",
    "import matplotlib.pyplot as plt\n",
    "import sys\n",
    "sys.path.append('../src')\n",
    "from utils import sample"
   ]
  },
  {
   "cell_type": "code",
   "execution_count": 2,
   "metadata": {},
   "outputs": [],
   "source": [
    "N = 32\n",
    "M = 64\n",
    "num_try = 10"
   ]
  },
  {
   "cell_type": "code",
   "execution_count": 3,
   "metadata": {},
   "outputs": [],
   "source": [
    "def rhoUF(rho, U):\n",
    "    rhos = []\n",
    "    UF = []\n",
    "    UFstd = []\n",
    "    for i in range(20):\n",
    "        idx = np.nonzero((i*0.05<=rho) & (rho<(i+1)*0.05))\n",
    "        x_group = rho[idx]\n",
    "        y_group = U[idx]\n",
    "        if x_group.shape != (0,):\n",
    "            rhos = np.append(rhos ,np.mean(x_group))\n",
    "            UF = np.append(UF ,np.mean(y_group))\n",
    "            UFstd = np.append(UFstd ,np.std(y_group)/np.sqrt(x_group.shape[0]))\n",
    "            UFall = np.concatenate((UF.reshape(1,-1), UFstd.reshape(1,-1)),axis=0)\n",
    "    return rhos, UFall"
   ]
  },
  {
   "cell_type": "code",
   "execution_count": 4,
   "metadata": {},
   "outputs": [],
   "source": [
    "sigY_span = np.linspace(0,1,200)\n",
    "NU = np.zeros((len(sigY_span), num_try))\n",
    "rho = np.zeros((len(sigY_span), num_try))\n",
    "for i in range(len(sigY_span)):\n",
    "    sigY = sigY_span[i]\n",
    "    for j in range(num_try):\n",
    "        NU[i,j], rho[i,j] = sample(N,M,0,sigY,0)\n",
    "U = (NU > 0).astype(float)\n",
    "rhosY, UFY = rhoUF(rho, U)"
   ]
  },
  {
   "cell_type": "code",
   "execution_count": 5,
   "metadata": {},
   "outputs": [],
   "source": [
    "sigY = 0.1\n",
    "sigH_span = np.linspace(0,1,200)\n",
    "NU = np.zeros((len(sigH_span), num_try))\n",
    "rho = np.zeros((len(sigH_span), num_try))\n",
    "for i in range(len(sigH_span)):\n",
    "    sigH = sigH_span[i]\n",
    "    for j in range(num_try):\n",
    "        NU[i,j], rho[i,j] = sample(N,M,0,sigY,sigH)\n",
    "U = (NU > 0).astype(float)\n",
    "rhosH, UFH = rhoUF(rho, U)"
   ]
  },
  {
   "cell_type": "code",
   "execution_count": 6,
   "metadata": {},
   "outputs": [],
   "source": [
    "sigY = 0.1\n",
    "sigP_span = np.linspace(0,.4,200)\n",
    "rho = np.zeros((len(sigP_span), num_try))\n",
    "NU = np.zeros((len(sigP_span), num_try))\n",
    "for i in range(len(sigP_span)):\n",
    "    sigP = sigP_span[i]\n",
    "    for j in range(num_try):\n",
    "        NU[i,j], rho[i,j] = sample(N,M,sigP,sigY,0)\n",
    "U = (NU > 0).astype(float)\n",
    "rhosP, UFP = rhoUF(rho, U)"
   ]
  },
  {
   "cell_type": "code",
   "execution_count": 7,
   "metadata": {},
   "outputs": [
    {
     "data": {
      "image/png": "[encoded data removed]",
      "text/plain": [
       "<Figure size 280x210 with 1 Axes>"
      ]
     },
     "metadata": {},
     "output_type": "display_data"
    }
   ],
   "source": [
    "plt.figure(figsize=(2.8, 2.1), constrained_layout=True)\n",
    "#plt.plot(rhosY, UFY,'ok',rhosH, UFH,'vk', rhosP, UFP,'sk')\n",
    "plt.errorbar(rhosY * np.sqrt(2), UFY[0], UFY[1], ls='none', marker = 'o', c='k')\n",
    "plt.errorbar(rhosH * np.sqrt(2), UFH[0], UFH[1], ls='none', marker = 'v', c='k')\n",
    "plt.errorbar(rhosP * np.sqrt(2), UFP[0], UFP[1], ls='none', marker = 's', c='k')\n",
    "plt.plot(np.linspace(1,1,10),np.linspace(0,1,10),'k--')\n",
    "plt.xlim(0.1,1.5)\n",
    "plt.xticks([0.5,1.0,1.5])\n",
    "plt.ylim(0.,1.0)\n",
    "plt.xlabel('Normalized correlation')\n",
    "plt.ylabel('Unstable fraction')\n",
    "plt.savefig('../figures/test18.eps')"
   ]
  }
 ],
 "metadata": {
  "kernelspec": {
   "display_name": "base",
   "language": "python",
   "name": "python3"
  },
  "language_info": {
   "codemirror_mode": {
    "name": "ipython",
    "version": 3
   },
   "file_extension": ".py",
   "mimetype": "text/x-python",
   "name": "python",
   "nbconvert_exporter": "python",
   "pygments_lexer": "ipython3",
   "version": "3.10.9"
  }
 },
 "nbformat": 4,
 "nbformat_minor": 2
}
