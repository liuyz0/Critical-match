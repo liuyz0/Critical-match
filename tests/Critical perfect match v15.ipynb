{
 "cells": [
  {
   "cell_type": "markdown",
   "metadata": {},
   "source": [
    "# Stability most sensitive at $N_S = N_R$\n",
    "\n",
    "This notebook tries to verify the idea that\n",
    "$$\n",
    "\\rho \\geq \\sqrt{\\min(N_S/N_R, N_R/N_S)},\n",
    "$$\n",
    "is the stability criterion."
   ]
  },
  {
   "cell_type": "code",
   "execution_count": 1,
   "metadata": {},
   "outputs": [],
   "source": [
    "import numpy as np\n",
    "import matplotlib.pyplot as plt"
   ]
  },
  {
   "cell_type": "markdown",
   "metadata": {},
   "source": [
    "First sample communities with constant resource supply."
   ]
  },
  {
   "cell_type": "markdown",
   "metadata": {},
   "source": [
    "Trial finished. A function for sampling as follows."
   ]
  },
  {
   "cell_type": "code",
   "execution_count": 2,
   "metadata": {},
   "outputs": [],
   "source": [
    "def sample(Ns:int,\n",
    "           Nr:int,\n",
    "           rho:float):\n",
    "    \n",
    "       Tgc = np.random.randn(2, Ns, Nr)\n",
    "\n",
    "       G = Tgc[0]\n",
    "       C = rho * Tgc[0] + np.sqrt(1-rho**2) * Tgc[1]\n",
    "       G = G + 4.0\n",
    "       C = C + 4.0\n",
    "       Ss = 0.01 + 0.99*np.random.rand(Ns)\n",
    "       Rs = 0.01 + 0.99*np.random.rand(Nr)\n",
    "       l = 0.1 + 0.9*np.random.rand(Nr)\n",
    "\n",
    "       Js = np.zeros((Ns+Nr,Ns+Nr))\n",
    "       Js[0:Ns,Ns:Ns+Nr] = np.diag(Ss) @ G\n",
    "       Js[Ns:Ns+Nr,0:Ns] = - np.diag(Rs) @ C.T\n",
    "       Js[Ns:Ns+Nr,Ns:Ns+Nr] = - np.diag(C.T @ Ss) - np.diag(l)\n",
    "\n",
    "       E_J = np.linalg.eigvals(Js)\n",
    "       E_Jr = E_J.real\n",
    "       NU_J = len(E_Jr[E_Jr >= 1.0e-8]) # if devided by Nr or Ns\n",
    "\n",
    "       return NU_J"
   ]
  },
  {
   "cell_type": "markdown",
   "metadata": {},
   "source": [
    "Want to draw a figure with x-axis being $N_S/N_R$ and y-axis being $\\rho$. The color map is number of unstable mode?\n",
    "\n",
    "Just select a horizental line, $\\rho = 0.8$"
   ]
  },
  {
   "cell_type": "code",
   "execution_count": 3,
   "metadata": {},
   "outputs": [],
   "source": [
    "rho = 0.8\n",
    "Nr = 512\n",
    "Ns_span = range(1,Nr*2+1, 32)\n",
    "NU = np.zeros((len(Ns_span), 50))\n",
    "\n",
    "for i in range(len(Ns_span)):\n",
    "    Ns = Ns_span[i]\n",
    "    for j in range(50):\n",
    "        NU[i, j] = sample(Ns, Nr, rho)"
   ]
  },
  {
   "cell_type": "code",
   "execution_count": 4,
   "metadata": {},
   "outputs": [],
   "source": [
    "FNC = np.mean((NU > 0).astype(float), -1)\n",
    "std_FNC = np.std((NU > 0).astype(float), -1)/np.sqrt(50)"
   ]
  },
  {
   "cell_type": "code",
   "execution_count": 5,
   "metadata": {},
   "outputs": [
    {
     "data": {
      "image/png": "[encoded data removed]",
      "text/plain": [
       "<Figure size 280x210 with 1 Axes>"
      ]
     },
     "metadata": {},
     "output_type": "display_data"
    }
   ],
   "source": [
    "plt.figure(figsize=(2.8, 2.1), constrained_layout=True)\n",
    "\n",
    "plt.errorbar(np.array(Ns_span)/Nr, FNC, std_FNC, ls='none', marker = 'o')\n",
    "#plt.scatter([12/32,1.0,3.0],[0.05 for i in range(3)],c='r',marker='v')\n",
    "\n",
    "plt.plot([0.8**2 for i in range(11)],[0.1*i for i in range(11)],'--k')\n",
    "plt.plot([1/0.8**2 for i in range(11)],[0.1*i for i in range(11)],'--k')\n",
    "\n",
    "plt.ylim(0,1)\n",
    "plt.xlim(0,4)\n",
    "#plt.xscale('log')\n",
    "plt.xlabel('Consumer-resource ratio, $N/M$')\n",
    "plt.ylabel('Unstable fraction')\n",
    "plt.savefig('../figures/fig1shift-test15.eps')"
   ]
  }
 ],
 "metadata": {
  "kernelspec": {
   "display_name": "base",
   "language": "python",
   "name": "python3"
  },
  "language_info": {
   "codemirror_mode": {
    "name": "ipython",
    "version": 3
   },
   "file_extension": ".py",
   "mimetype": "text/x-python",
   "name": "python",
   "nbconvert_exporter": "python",
   "pygments_lexer": "ipython3",
   "version": "3.10.9"
  }
 },
 "nbformat": 4,
 "nbformat_minor": 2
}
